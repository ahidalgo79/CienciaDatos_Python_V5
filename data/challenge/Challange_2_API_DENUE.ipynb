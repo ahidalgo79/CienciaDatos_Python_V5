{
 "cells": [
  {
   "cell_type": "markdown",
   "metadata": {
    "id": "LbIhnPELMg8C"
   },
   "source": [
    "# Ciencia de Datos "
   ]
  },
  {
   "cell_type": "markdown",
   "metadata": {},
   "source": [
    "## Objetivo del reto\n",
    "\n"
   ]
  },
  {
   "cell_type": "markdown",
   "metadata": {},
   "source": [
    "### Actividad 1\n",
    "\n",
    "Utilizando la API de DENUE, extraer datos de su estado y visualizar el top 10 de Clases de actividades económicas\n",
    "\n",
    "Para hacer esto se necesita:\n",
    "1. Obtener el token del inegi\n",
    "2. Hacer la llamada a la api, haciendo una consulta al endpoint BuscarEntidad, con los datos necesarios (numero del estado, registro de inicio, registro final, token)\n",
    "3. Transformar la respuesta de la API en un dataframe\n",
    "4. Separar la columna ubicacion en 3 columnas (localidad, municipio, estado)\n",
    "5. Hacer una grafica bar char sobre cuantos establecimientos hay por clase de actividad economica\n",
    "\n",
    "### Actividad 2\n",
    "\n",
    "Seleccionar dos entidades y hacer comparativos sobre la clase de actividad economica\n",
    "\n",
    "1. Obtener el token del inegi\n",
    "2. Hacer la llamada a la api, haciendo una consulta al endpoint BuscarEntidad, con los datos necesarios (numero del estado, registro de inicio, registro final, token) para cada estado\n",
    "3. Transformar las respuestas a dos dataframes\n",
    "4. Unir los dataframes usando la funcion concat (https://pandas.pydata.org/docs/reference/api/pandas.concat.html)\n",
    "5. Separar la columna ubicacion en 3 columnas (localidad, municipio, estado)\n",
    "6. Hacer la comparacion sobre la clase de actividad economica entre los dos estados\n",
    "\n",
    "**Deadline Sunday 03th** \n",
    "\n",
    "*#HappyCoding*\n",
    "\n"
   ]
  },
  {
   "cell_type": "code",
   "execution_count": 1,
   "metadata": {
    "ExecuteTime": {
     "end_time": "2023-08-30T23:36:31.964714Z",
     "start_time": "2023-08-30T23:36:31.962591Z"
    }
   },
   "outputs": [],
   "source": [
    "## Your code\n",
    "\n"
   ]
  },
  {
   "cell_type": "code",
   "execution_count": null,
   "metadata": {},
   "outputs": [],
   "source": []
  }
 ],
 "metadata": {
  "colab": {
   "provenance": []
  },
  "kernelspec": {
   "display_name": "Python 3 (ipykernel)",
   "language": "python",
   "name": "python3"
  },
  "language_info": {
   "codemirror_mode": {
    "name": "ipython",
    "version": 3
   },
   "file_extension": ".py",
   "mimetype": "text/x-python",
   "name": "python",
   "nbconvert_exporter": "python",
   "pygments_lexer": "ipython3",
   "version": "3.10.9"
  },
  "toc": {
   "base_numbering": 1,
   "nav_menu": {},
   "number_sections": true,
   "sideBar": true,
   "skip_h1_title": false,
   "title_cell": "Table of Contents",
   "title_sidebar": "Contents",
   "toc_cell": false,
   "toc_position": {},
   "toc_section_display": true,
   "toc_window_display": false
  },
  "varInspector": {
   "cols": {
    "lenName": 16,
    "lenType": 16,
    "lenVar": 40
   },
   "kernels_config": {
    "python": {
     "delete_cmd_postfix": "",
     "delete_cmd_prefix": "del ",
     "library": "var_list.py",
     "varRefreshCmd": "print(var_dic_list())"
    },
    "r": {
     "delete_cmd_postfix": ") ",
     "delete_cmd_prefix": "rm(",
     "library": "var_list.r",
     "varRefreshCmd": "cat(var_dic_list()) "
    }
   },
   "types_to_exclude": [
    "module",
    "function",
    "builtin_function_or_method",
    "instance",
    "_Feature"
   ],
   "window_display": false
  }
 },
 "nbformat": 4,
 "nbformat_minor": 1
}
